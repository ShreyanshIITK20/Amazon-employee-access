{
    "cells": [
        {
            "cell_type": "code",
            "execution_count": 56,
            "source": [
                "import pandas as pd\r\n",
                "import matplotlib.pyplot as plt\r\n",
                "df_train = pd.read_csv(\"train.csv\")\r\n",
                "df_test = pd.read_csv(\"test.csv\")\r\n",
                "df_train.head()"
            ],
            "outputs": [
                {
                    "output_type": "execute_result",
                    "data": {
                        "text/plain": [
                            "   ACTION  RESOURCE  MGR_ID  ROLE_ROLLUP_1  ROLE_ROLLUP_2  ROLE_DEPTNAME  \\\n",
                            "0       1     39353   85475         117961         118300         123472   \n",
                            "1       1     17183    1540         117961         118343         123125   \n",
                            "2       1     36724   14457         118219         118220         117884   \n",
                            "3       1     36135    5396         117961         118343         119993   \n",
                            "4       1     42680    5905         117929         117930         119569   \n",
                            "\n",
                            "   ROLE_TITLE  ROLE_FAMILY_DESC  ROLE_FAMILY  ROLE_CODE  \n",
                            "0      117905            117906       290919     117908  \n",
                            "1      118536            118536       308574     118539  \n",
                            "2      117879            267952        19721     117880  \n",
                            "3      118321            240983       290919     118322  \n",
                            "4      119323            123932        19793     119325  "
                        ],
                        "text/html": [
                            "<div>\n",
                            "<style scoped>\n",
                            "    .dataframe tbody tr th:only-of-type {\n",
                            "        vertical-align: middle;\n",
                            "    }\n",
                            "\n",
                            "    .dataframe tbody tr th {\n",
                            "        vertical-align: top;\n",
                            "    }\n",
                            "\n",
                            "    .dataframe thead th {\n",
                            "        text-align: right;\n",
                            "    }\n",
                            "</style>\n",
                            "<table border=\"1\" class=\"dataframe\">\n",
                            "  <thead>\n",
                            "    <tr style=\"text-align: right;\">\n",
                            "      <th></th>\n",
                            "      <th>ACTION</th>\n",
                            "      <th>RESOURCE</th>\n",
                            "      <th>MGR_ID</th>\n",
                            "      <th>ROLE_ROLLUP_1</th>\n",
                            "      <th>ROLE_ROLLUP_2</th>\n",
                            "      <th>ROLE_DEPTNAME</th>\n",
                            "      <th>ROLE_TITLE</th>\n",
                            "      <th>ROLE_FAMILY_DESC</th>\n",
                            "      <th>ROLE_FAMILY</th>\n",
                            "      <th>ROLE_CODE</th>\n",
                            "    </tr>\n",
                            "  </thead>\n",
                            "  <tbody>\n",
                            "    <tr>\n",
                            "      <th>0</th>\n",
                            "      <td>1</td>\n",
                            "      <td>39353</td>\n",
                            "      <td>85475</td>\n",
                            "      <td>117961</td>\n",
                            "      <td>118300</td>\n",
                            "      <td>123472</td>\n",
                            "      <td>117905</td>\n",
                            "      <td>117906</td>\n",
                            "      <td>290919</td>\n",
                            "      <td>117908</td>\n",
                            "    </tr>\n",
                            "    <tr>\n",
                            "      <th>1</th>\n",
                            "      <td>1</td>\n",
                            "      <td>17183</td>\n",
                            "      <td>1540</td>\n",
                            "      <td>117961</td>\n",
                            "      <td>118343</td>\n",
                            "      <td>123125</td>\n",
                            "      <td>118536</td>\n",
                            "      <td>118536</td>\n",
                            "      <td>308574</td>\n",
                            "      <td>118539</td>\n",
                            "    </tr>\n",
                            "    <tr>\n",
                            "      <th>2</th>\n",
                            "      <td>1</td>\n",
                            "      <td>36724</td>\n",
                            "      <td>14457</td>\n",
                            "      <td>118219</td>\n",
                            "      <td>118220</td>\n",
                            "      <td>117884</td>\n",
                            "      <td>117879</td>\n",
                            "      <td>267952</td>\n",
                            "      <td>19721</td>\n",
                            "      <td>117880</td>\n",
                            "    </tr>\n",
                            "    <tr>\n",
                            "      <th>3</th>\n",
                            "      <td>1</td>\n",
                            "      <td>36135</td>\n",
                            "      <td>5396</td>\n",
                            "      <td>117961</td>\n",
                            "      <td>118343</td>\n",
                            "      <td>119993</td>\n",
                            "      <td>118321</td>\n",
                            "      <td>240983</td>\n",
                            "      <td>290919</td>\n",
                            "      <td>118322</td>\n",
                            "    </tr>\n",
                            "    <tr>\n",
                            "      <th>4</th>\n",
                            "      <td>1</td>\n",
                            "      <td>42680</td>\n",
                            "      <td>5905</td>\n",
                            "      <td>117929</td>\n",
                            "      <td>117930</td>\n",
                            "      <td>119569</td>\n",
                            "      <td>119323</td>\n",
                            "      <td>123932</td>\n",
                            "      <td>19793</td>\n",
                            "      <td>119325</td>\n",
                            "    </tr>\n",
                            "  </tbody>\n",
                            "</table>\n",
                            "</div>"
                        ]
                    },
                    "metadata": {},
                    "execution_count": 56
                }
            ],
            "metadata": {}
        },
        {
            "cell_type": "code",
            "execution_count": 57,
            "source": [
                "x = df_train.drop('ACTION',axis=1)      #input features\r\n",
                "y = df_train['ACTION']                  #output label"
            ],
            "outputs": [],
            "metadata": {}
        },
        {
            "cell_type": "code",
            "execution_count": 58,
            "source": [
                "test_input = df_test.drop('id',axis=1)      #test input containing features\r\n",
                "test_input.head()"
            ],
            "outputs": [
                {
                    "output_type": "execute_result",
                    "data": {
                        "text/plain": [
                            "   RESOURCE  MGR_ID  ROLE_ROLLUP_1  ROLE_ROLLUP_2  ROLE_DEPTNAME  ROLE_TITLE  \\\n",
                            "0     78766   72734         118079         118080         117878      117879   \n",
                            "1     40644    4378         117961         118327         118507      118863   \n",
                            "2     75443    2395         117961         118300         119488      118172   \n",
                            "3     43219   19986         117961         118225         118403      120773   \n",
                            "4     42093   50015         117961         118343         119598      118422   \n",
                            "\n",
                            "   ROLE_FAMILY_DESC  ROLE_FAMILY  ROLE_CODE  \n",
                            "0            118177        19721     117880  \n",
                            "1            122008       118398     118865  \n",
                            "2            301534       249618     118175  \n",
                            "3            136187       118960     120774  \n",
                            "4            300136       118424     118425  "
                        ],
                        "text/html": [
                            "<div>\n",
                            "<style scoped>\n",
                            "    .dataframe tbody tr th:only-of-type {\n",
                            "        vertical-align: middle;\n",
                            "    }\n",
                            "\n",
                            "    .dataframe tbody tr th {\n",
                            "        vertical-align: top;\n",
                            "    }\n",
                            "\n",
                            "    .dataframe thead th {\n",
                            "        text-align: right;\n",
                            "    }\n",
                            "</style>\n",
                            "<table border=\"1\" class=\"dataframe\">\n",
                            "  <thead>\n",
                            "    <tr style=\"text-align: right;\">\n",
                            "      <th></th>\n",
                            "      <th>RESOURCE</th>\n",
                            "      <th>MGR_ID</th>\n",
                            "      <th>ROLE_ROLLUP_1</th>\n",
                            "      <th>ROLE_ROLLUP_2</th>\n",
                            "      <th>ROLE_DEPTNAME</th>\n",
                            "      <th>ROLE_TITLE</th>\n",
                            "      <th>ROLE_FAMILY_DESC</th>\n",
                            "      <th>ROLE_FAMILY</th>\n",
                            "      <th>ROLE_CODE</th>\n",
                            "    </tr>\n",
                            "  </thead>\n",
                            "  <tbody>\n",
                            "    <tr>\n",
                            "      <th>0</th>\n",
                            "      <td>78766</td>\n",
                            "      <td>72734</td>\n",
                            "      <td>118079</td>\n",
                            "      <td>118080</td>\n",
                            "      <td>117878</td>\n",
                            "      <td>117879</td>\n",
                            "      <td>118177</td>\n",
                            "      <td>19721</td>\n",
                            "      <td>117880</td>\n",
                            "    </tr>\n",
                            "    <tr>\n",
                            "      <th>1</th>\n",
                            "      <td>40644</td>\n",
                            "      <td>4378</td>\n",
                            "      <td>117961</td>\n",
                            "      <td>118327</td>\n",
                            "      <td>118507</td>\n",
                            "      <td>118863</td>\n",
                            "      <td>122008</td>\n",
                            "      <td>118398</td>\n",
                            "      <td>118865</td>\n",
                            "    </tr>\n",
                            "    <tr>\n",
                            "      <th>2</th>\n",
                            "      <td>75443</td>\n",
                            "      <td>2395</td>\n",
                            "      <td>117961</td>\n",
                            "      <td>118300</td>\n",
                            "      <td>119488</td>\n",
                            "      <td>118172</td>\n",
                            "      <td>301534</td>\n",
                            "      <td>249618</td>\n",
                            "      <td>118175</td>\n",
                            "    </tr>\n",
                            "    <tr>\n",
                            "      <th>3</th>\n",
                            "      <td>43219</td>\n",
                            "      <td>19986</td>\n",
                            "      <td>117961</td>\n",
                            "      <td>118225</td>\n",
                            "      <td>118403</td>\n",
                            "      <td>120773</td>\n",
                            "      <td>136187</td>\n",
                            "      <td>118960</td>\n",
                            "      <td>120774</td>\n",
                            "    </tr>\n",
                            "    <tr>\n",
                            "      <th>4</th>\n",
                            "      <td>42093</td>\n",
                            "      <td>50015</td>\n",
                            "      <td>117961</td>\n",
                            "      <td>118343</td>\n",
                            "      <td>119598</td>\n",
                            "      <td>118422</td>\n",
                            "      <td>300136</td>\n",
                            "      <td>118424</td>\n",
                            "      <td>118425</td>\n",
                            "    </tr>\n",
                            "  </tbody>\n",
                            "</table>\n",
                            "</div>"
                        ]
                    },
                    "metadata": {},
                    "execution_count": 58
                }
            ],
            "metadata": {}
        },
        {
            "cell_type": "code",
            "execution_count": 59,
            "source": [
                "from sklearn.model_selection import train_test_split\r\n",
                "#splitting in 20:80 for validation of data\r\n",
                "x_train, x_valid, y_train, y_valid = train_test_split(x,y,test_size=0.2,random_state=1)"
            ],
            "outputs": [],
            "metadata": {}
        },
        {
            "cell_type": "code",
            "execution_count": 60,
            "source": [
                "from sklearn.preprocessing import LabelEncoder\r\n",
                "le = LabelEncoder()\r\n",
                "dfle = x_train\r\n",
                "for i in range(dfle.columns.size):\r\n",
                "    dfle.iloc[:,i] = le.fit_transform(dfle.iloc[:,i])"
            ],
            "outputs": [
                {
                    "output_type": "stream",
                    "name": "stderr",
                    "text": [
                        "C:\\Python39\\lib\\site-packages\\pandas\\core\\indexing.py:1843: SettingWithCopyWarning: \n",
                        "A value is trying to be set on a copy of a slice from a DataFrame.\n",
                        "Try using .loc[row_indexer,col_indexer] = value instead\n",
                        "\n",
                        "See the caveats in the documentation: https://pandas.pydata.org/pandas-docs/stable/user_guide/indexing.html#returning-a-view-versus-a-copy\n",
                        "  self.obj[item_labels[indexer[info_axis]]] = value\n"
                    ]
                }
            ],
            "metadata": {}
        },
        {
            "cell_type": "code",
            "execution_count": 61,
            "source": [
                "from sklearn.linear_model import LogisticRegression\r\n",
                "model = LogisticRegression(max_iter=1000)#class_weight='balanced',random_state=1,max_iter=1000\r\n",
                "model.fit(dfle,y_train)"
            ],
            "outputs": [
                {
                    "output_type": "execute_result",
                    "data": {
                        "text/plain": [
                            "LogisticRegression(max_iter=1000)"
                        ]
                    },
                    "metadata": {},
                    "execution_count": 61
                }
            ],
            "metadata": {}
        },
        {
            "cell_type": "code",
            "execution_count": 62,
            "source": [
                "model.predict(x_valid)\r\n",
                "dfle_valid = x_valid\r\n",
                "for i in range(dfle_valid.columns.size):\r\n",
                "    dfle_valid.iloc[:,i] = le.fit_transform(dfle_valid.iloc[:,i]) \r\n",
                "model.score(dfle_valid,y_valid)"
            ],
            "outputs": [
                {
                    "output_type": "stream",
                    "name": "stderr",
                    "text": [
                        "C:\\Python39\\lib\\site-packages\\pandas\\core\\indexing.py:1843: SettingWithCopyWarning: \n",
                        "A value is trying to be set on a copy of a slice from a DataFrame.\n",
                        "Try using .loc[row_indexer,col_indexer] = value instead\n",
                        "\n",
                        "See the caveats in the documentation: https://pandas.pydata.org/pandas-docs/stable/user_guide/indexing.html#returning-a-view-versus-a-copy\n",
                        "  self.obj[item_labels[indexer[info_axis]]] = value\n"
                    ]
                },
                {
                    "output_type": "execute_result",
                    "data": {
                        "text/plain": [
                            "0.9461397619774183"
                        ]
                    },
                    "metadata": {},
                    "execution_count": 62
                }
            ],
            "metadata": {}
        },
        {
            "cell_type": "code",
            "execution_count": 63,
            "source": [
                "test_input = df_test.drop('id',axis=1)\r\n",
                "dfle_test = test_input\r\n",
                "for i in range(dfle_test.columns.size):\r\n",
                "    dfle_test.iloc[:,i] = le.fit_transform(dfle_test.iloc[:,i]) \r\n",
                "predictions = model.predict(dfle_test)"
            ],
            "outputs": [],
            "metadata": {}
        },
        {
            "cell_type": "code",
            "execution_count": 64,
            "source": [
                "df_test.head()"
            ],
            "outputs": [
                {
                    "output_type": "execute_result",
                    "data": {
                        "text/plain": [
                            "   id  RESOURCE  MGR_ID  ROLE_ROLLUP_1  ROLE_ROLLUP_2  ROLE_DEPTNAME  \\\n",
                            "0   1     78766   72734         118079         118080         117878   \n",
                            "1   2     40644    4378         117961         118327         118507   \n",
                            "2   3     75443    2395         117961         118300         119488   \n",
                            "3   4     43219   19986         117961         118225         118403   \n",
                            "4   5     42093   50015         117961         118343         119598   \n",
                            "\n",
                            "   ROLE_TITLE  ROLE_FAMILY_DESC  ROLE_FAMILY  ROLE_CODE  \n",
                            "0      117879            118177        19721     117880  \n",
                            "1      118863            122008       118398     118865  \n",
                            "2      118172            301534       249618     118175  \n",
                            "3      120773            136187       118960     120774  \n",
                            "4      118422            300136       118424     118425  "
                        ],
                        "text/html": [
                            "<div>\n",
                            "<style scoped>\n",
                            "    .dataframe tbody tr th:only-of-type {\n",
                            "        vertical-align: middle;\n",
                            "    }\n",
                            "\n",
                            "    .dataframe tbody tr th {\n",
                            "        vertical-align: top;\n",
                            "    }\n",
                            "\n",
                            "    .dataframe thead th {\n",
                            "        text-align: right;\n",
                            "    }\n",
                            "</style>\n",
                            "<table border=\"1\" class=\"dataframe\">\n",
                            "  <thead>\n",
                            "    <tr style=\"text-align: right;\">\n",
                            "      <th></th>\n",
                            "      <th>id</th>\n",
                            "      <th>RESOURCE</th>\n",
                            "      <th>MGR_ID</th>\n",
                            "      <th>ROLE_ROLLUP_1</th>\n",
                            "      <th>ROLE_ROLLUP_2</th>\n",
                            "      <th>ROLE_DEPTNAME</th>\n",
                            "      <th>ROLE_TITLE</th>\n",
                            "      <th>ROLE_FAMILY_DESC</th>\n",
                            "      <th>ROLE_FAMILY</th>\n",
                            "      <th>ROLE_CODE</th>\n",
                            "    </tr>\n",
                            "  </thead>\n",
                            "  <tbody>\n",
                            "    <tr>\n",
                            "      <th>0</th>\n",
                            "      <td>1</td>\n",
                            "      <td>78766</td>\n",
                            "      <td>72734</td>\n",
                            "      <td>118079</td>\n",
                            "      <td>118080</td>\n",
                            "      <td>117878</td>\n",
                            "      <td>117879</td>\n",
                            "      <td>118177</td>\n",
                            "      <td>19721</td>\n",
                            "      <td>117880</td>\n",
                            "    </tr>\n",
                            "    <tr>\n",
                            "      <th>1</th>\n",
                            "      <td>2</td>\n",
                            "      <td>40644</td>\n",
                            "      <td>4378</td>\n",
                            "      <td>117961</td>\n",
                            "      <td>118327</td>\n",
                            "      <td>118507</td>\n",
                            "      <td>118863</td>\n",
                            "      <td>122008</td>\n",
                            "      <td>118398</td>\n",
                            "      <td>118865</td>\n",
                            "    </tr>\n",
                            "    <tr>\n",
                            "      <th>2</th>\n",
                            "      <td>3</td>\n",
                            "      <td>75443</td>\n",
                            "      <td>2395</td>\n",
                            "      <td>117961</td>\n",
                            "      <td>118300</td>\n",
                            "      <td>119488</td>\n",
                            "      <td>118172</td>\n",
                            "      <td>301534</td>\n",
                            "      <td>249618</td>\n",
                            "      <td>118175</td>\n",
                            "    </tr>\n",
                            "    <tr>\n",
                            "      <th>3</th>\n",
                            "      <td>4</td>\n",
                            "      <td>43219</td>\n",
                            "      <td>19986</td>\n",
                            "      <td>117961</td>\n",
                            "      <td>118225</td>\n",
                            "      <td>118403</td>\n",
                            "      <td>120773</td>\n",
                            "      <td>136187</td>\n",
                            "      <td>118960</td>\n",
                            "      <td>120774</td>\n",
                            "    </tr>\n",
                            "    <tr>\n",
                            "      <th>4</th>\n",
                            "      <td>5</td>\n",
                            "      <td>42093</td>\n",
                            "      <td>50015</td>\n",
                            "      <td>117961</td>\n",
                            "      <td>118343</td>\n",
                            "      <td>119598</td>\n",
                            "      <td>118422</td>\n",
                            "      <td>300136</td>\n",
                            "      <td>118424</td>\n",
                            "      <td>118425</td>\n",
                            "    </tr>\n",
                            "  </tbody>\n",
                            "</table>\n",
                            "</div>"
                        ]
                    },
                    "metadata": {},
                    "execution_count": 64
                }
            ],
            "metadata": {}
        },
        {
            "cell_type": "code",
            "execution_count": 66,
            "source": [
                "result = pd.DataFrame({'Id':df_test['id'],'Action':predictions})\r\n",
                "result.to_csv('Submission8.csv',index=False)"
            ],
            "outputs": [],
            "metadata": {}
        },
        {
            "cell_type": "code",
            "execution_count": null,
            "source": [],
            "outputs": [],
            "metadata": {}
        }
    ],
    "metadata": {
        "orig_nbformat": 4,
        "language_info": {
            "name": "python",
            "version": "3.9.5",
            "mimetype": "text/x-python",
            "codemirror_mode": {
                "name": "ipython",
                "version": 3
            },
            "pygments_lexer": "ipython3",
            "nbconvert_exporter": "python",
            "file_extension": ".py"
        },
        "kernelspec": {
            "name": "python3",
            "display_name": "Python 3.9.5 64-bit"
        },
        "interpreter": {
            "hash": "63fd5069d213b44bf678585dea6b12cceca9941eaf7f819626cde1f2670de90d"
        }
    },
    "nbformat": 4,
    "nbformat_minor": 2
}