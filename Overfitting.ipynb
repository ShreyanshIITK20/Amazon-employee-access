{
    "cells": [
        {
            "cell_type": "code",
            "execution_count": 14,
            "source": [
                "import pandas as pd\r\n",
                "import matplotlib.pyplot as plt\r\n",
                "df_train = pd.read_csv(\"train.csv\")\r\n",
                "df_test = pd.read_csv(\"test.csv\")\r\n",
                "df_train.head()"
            ],
            "outputs": [
                {
                    "output_type": "execute_result",
                    "data": {
                        "text/plain": [
                            "   ACTION  RESOURCE  MGR_ID  ROLE_ROLLUP_1  ROLE_ROLLUP_2  ROLE_DEPTNAME  \\\n",
                            "0       1     39353   85475         117961         118300         123472   \n",
                            "1       1     17183    1540         117961         118343         123125   \n",
                            "2       1     36724   14457         118219         118220         117884   \n",
                            "3       1     36135    5396         117961         118343         119993   \n",
                            "4       1     42680    5905         117929         117930         119569   \n",
                            "\n",
                            "   ROLE_TITLE  ROLE_FAMILY_DESC  ROLE_FAMILY  ROLE_CODE  \n",
                            "0      117905            117906       290919     117908  \n",
                            "1      118536            118536       308574     118539  \n",
                            "2      117879            267952        19721     117880  \n",
                            "3      118321            240983       290919     118322  \n",
                            "4      119323            123932        19793     119325  "
                        ],
                        "text/html": [
                            "<div>\n",
                            "<style scoped>\n",
                            "    .dataframe tbody tr th:only-of-type {\n",
                            "        vertical-align: middle;\n",
                            "    }\n",
                            "\n",
                            "    .dataframe tbody tr th {\n",
                            "        vertical-align: top;\n",
                            "    }\n",
                            "\n",
                            "    .dataframe thead th {\n",
                            "        text-align: right;\n",
                            "    }\n",
                            "</style>\n",
                            "<table border=\"1\" class=\"dataframe\">\n",
                            "  <thead>\n",
                            "    <tr style=\"text-align: right;\">\n",
                            "      <th></th>\n",
                            "      <th>ACTION</th>\n",
                            "      <th>RESOURCE</th>\n",
                            "      <th>MGR_ID</th>\n",
                            "      <th>ROLE_ROLLUP_1</th>\n",
                            "      <th>ROLE_ROLLUP_2</th>\n",
                            "      <th>ROLE_DEPTNAME</th>\n",
                            "      <th>ROLE_TITLE</th>\n",
                            "      <th>ROLE_FAMILY_DESC</th>\n",
                            "      <th>ROLE_FAMILY</th>\n",
                            "      <th>ROLE_CODE</th>\n",
                            "    </tr>\n",
                            "  </thead>\n",
                            "  <tbody>\n",
                            "    <tr>\n",
                            "      <th>0</th>\n",
                            "      <td>1</td>\n",
                            "      <td>39353</td>\n",
                            "      <td>85475</td>\n",
                            "      <td>117961</td>\n",
                            "      <td>118300</td>\n",
                            "      <td>123472</td>\n",
                            "      <td>117905</td>\n",
                            "      <td>117906</td>\n",
                            "      <td>290919</td>\n",
                            "      <td>117908</td>\n",
                            "    </tr>\n",
                            "    <tr>\n",
                            "      <th>1</th>\n",
                            "      <td>1</td>\n",
                            "      <td>17183</td>\n",
                            "      <td>1540</td>\n",
                            "      <td>117961</td>\n",
                            "      <td>118343</td>\n",
                            "      <td>123125</td>\n",
                            "      <td>118536</td>\n",
                            "      <td>118536</td>\n",
                            "      <td>308574</td>\n",
                            "      <td>118539</td>\n",
                            "    </tr>\n",
                            "    <tr>\n",
                            "      <th>2</th>\n",
                            "      <td>1</td>\n",
                            "      <td>36724</td>\n",
                            "      <td>14457</td>\n",
                            "      <td>118219</td>\n",
                            "      <td>118220</td>\n",
                            "      <td>117884</td>\n",
                            "      <td>117879</td>\n",
                            "      <td>267952</td>\n",
                            "      <td>19721</td>\n",
                            "      <td>117880</td>\n",
                            "    </tr>\n",
                            "    <tr>\n",
                            "      <th>3</th>\n",
                            "      <td>1</td>\n",
                            "      <td>36135</td>\n",
                            "      <td>5396</td>\n",
                            "      <td>117961</td>\n",
                            "      <td>118343</td>\n",
                            "      <td>119993</td>\n",
                            "      <td>118321</td>\n",
                            "      <td>240983</td>\n",
                            "      <td>290919</td>\n",
                            "      <td>118322</td>\n",
                            "    </tr>\n",
                            "    <tr>\n",
                            "      <th>4</th>\n",
                            "      <td>1</td>\n",
                            "      <td>42680</td>\n",
                            "      <td>5905</td>\n",
                            "      <td>117929</td>\n",
                            "      <td>117930</td>\n",
                            "      <td>119569</td>\n",
                            "      <td>119323</td>\n",
                            "      <td>123932</td>\n",
                            "      <td>19793</td>\n",
                            "      <td>119325</td>\n",
                            "    </tr>\n",
                            "  </tbody>\n",
                            "</table>\n",
                            "</div>"
                        ]
                    },
                    "metadata": {},
                    "execution_count": 14
                }
            ],
            "metadata": {}
        },
        {
            "cell_type": "code",
            "execution_count": 15,
            "source": [
                "x = df_train.drop('ACTION',axis=1)      #input features\r\n",
                "y = df_train['ACTION']  \r\n"
            ],
            "outputs": [],
            "metadata": {}
        },
        {
            "cell_type": "code",
            "execution_count": 16,
            "source": [
                "test_input = df_test.drop('id',axis=1)      #test input containing features\r\n",
                "test_input.head()"
            ],
            "outputs": [
                {
                    "output_type": "execute_result",
                    "data": {
                        "text/plain": [
                            "   RESOURCE  MGR_ID  ROLE_ROLLUP_1  ROLE_ROLLUP_2  ROLE_DEPTNAME  ROLE_TITLE  \\\n",
                            "0     78766   72734         118079         118080         117878      117879   \n",
                            "1     40644    4378         117961         118327         118507      118863   \n",
                            "2     75443    2395         117961         118300         119488      118172   \n",
                            "3     43219   19986         117961         118225         118403      120773   \n",
                            "4     42093   50015         117961         118343         119598      118422   \n",
                            "\n",
                            "   ROLE_FAMILY_DESC  ROLE_FAMILY  ROLE_CODE  \n",
                            "0            118177        19721     117880  \n",
                            "1            122008       118398     118865  \n",
                            "2            301534       249618     118175  \n",
                            "3            136187       118960     120774  \n",
                            "4            300136       118424     118425  "
                        ],
                        "text/html": [
                            "<div>\n",
                            "<style scoped>\n",
                            "    .dataframe tbody tr th:only-of-type {\n",
                            "        vertical-align: middle;\n",
                            "    }\n",
                            "\n",
                            "    .dataframe tbody tr th {\n",
                            "        vertical-align: top;\n",
                            "    }\n",
                            "\n",
                            "    .dataframe thead th {\n",
                            "        text-align: right;\n",
                            "    }\n",
                            "</style>\n",
                            "<table border=\"1\" class=\"dataframe\">\n",
                            "  <thead>\n",
                            "    <tr style=\"text-align: right;\">\n",
                            "      <th></th>\n",
                            "      <th>RESOURCE</th>\n",
                            "      <th>MGR_ID</th>\n",
                            "      <th>ROLE_ROLLUP_1</th>\n",
                            "      <th>ROLE_ROLLUP_2</th>\n",
                            "      <th>ROLE_DEPTNAME</th>\n",
                            "      <th>ROLE_TITLE</th>\n",
                            "      <th>ROLE_FAMILY_DESC</th>\n",
                            "      <th>ROLE_FAMILY</th>\n",
                            "      <th>ROLE_CODE</th>\n",
                            "    </tr>\n",
                            "  </thead>\n",
                            "  <tbody>\n",
                            "    <tr>\n",
                            "      <th>0</th>\n",
                            "      <td>78766</td>\n",
                            "      <td>72734</td>\n",
                            "      <td>118079</td>\n",
                            "      <td>118080</td>\n",
                            "      <td>117878</td>\n",
                            "      <td>117879</td>\n",
                            "      <td>118177</td>\n",
                            "      <td>19721</td>\n",
                            "      <td>117880</td>\n",
                            "    </tr>\n",
                            "    <tr>\n",
                            "      <th>1</th>\n",
                            "      <td>40644</td>\n",
                            "      <td>4378</td>\n",
                            "      <td>117961</td>\n",
                            "      <td>118327</td>\n",
                            "      <td>118507</td>\n",
                            "      <td>118863</td>\n",
                            "      <td>122008</td>\n",
                            "      <td>118398</td>\n",
                            "      <td>118865</td>\n",
                            "    </tr>\n",
                            "    <tr>\n",
                            "      <th>2</th>\n",
                            "      <td>75443</td>\n",
                            "      <td>2395</td>\n",
                            "      <td>117961</td>\n",
                            "      <td>118300</td>\n",
                            "      <td>119488</td>\n",
                            "      <td>118172</td>\n",
                            "      <td>301534</td>\n",
                            "      <td>249618</td>\n",
                            "      <td>118175</td>\n",
                            "    </tr>\n",
                            "    <tr>\n",
                            "      <th>3</th>\n",
                            "      <td>43219</td>\n",
                            "      <td>19986</td>\n",
                            "      <td>117961</td>\n",
                            "      <td>118225</td>\n",
                            "      <td>118403</td>\n",
                            "      <td>120773</td>\n",
                            "      <td>136187</td>\n",
                            "      <td>118960</td>\n",
                            "      <td>120774</td>\n",
                            "    </tr>\n",
                            "    <tr>\n",
                            "      <th>4</th>\n",
                            "      <td>42093</td>\n",
                            "      <td>50015</td>\n",
                            "      <td>117961</td>\n",
                            "      <td>118343</td>\n",
                            "      <td>119598</td>\n",
                            "      <td>118422</td>\n",
                            "      <td>300136</td>\n",
                            "      <td>118424</td>\n",
                            "      <td>118425</td>\n",
                            "    </tr>\n",
                            "  </tbody>\n",
                            "</table>\n",
                            "</div>"
                        ]
                    },
                    "metadata": {},
                    "execution_count": 16
                }
            ],
            "metadata": {}
        },
        {
            "cell_type": "code",
            "execution_count": 17,
            "source": [
                "from imblearn.under_sampling import NearMiss\r\n",
                "nm = NearMiss()\r\n",
                "x, y = nm.fit_resample(x,y)"
            ],
            "outputs": [],
            "metadata": {}
        },
        {
            "cell_type": "code",
            "execution_count": 18,
            "source": [
                "from sklearn.model_selection import train_test_split\r\n",
                "#splitting in 20:80 for validation of data\r\n",
                "x_train, x_valid, y_train, y_valid = train_test_split(x,y,test_size=0.2,random_state=1)"
            ],
            "outputs": [],
            "metadata": {}
        },
        {
            "cell_type": "code",
            "execution_count": 19,
            "source": [
                "from catboost import CatBoostClassifier                 #using catboost because its fast and doesnt require pre-processing\r\n",
                "from sklearn.metrics import f1_score"
            ],
            "outputs": [],
            "metadata": {}
        },
        {
            "cell_type": "code",
            "execution_count": 7,
            "source": [
                "from imblearn.over_sampling import SMOTE\r\n",
                "oversample = SMOTE()"
            ],
            "outputs": [],
            "metadata": {}
        },
        {
            "cell_type": "code",
            "execution_count": 8,
            "source": [
                "x_train,y_train = oversample.fit_resample(x_train,y_train)"
            ],
            "outputs": [],
            "metadata": {}
        },
        {
            "cell_type": "code",
            "execution_count": 20,
            "source": [
                "cat_features = list(range(x_train.columns.size))        #classified features on which our model will train\r\n",
                "\r\n",
                "model = CatBoostClassifier(\r\n",
                "    loss_function='Logloss',\r\n",
                "    eval_metric=\"F1\",\r\n",
                "    random_seed=1,\r\n",
                "    verbose=100,\r\n",
                "    cat_features = cat_features\r\n",
                ")\r\n",
                "\r\n",
                "model.fit(x_train,y_train,eval_set=(x_valid,y_valid),use_best_model=True)"
            ],
            "outputs": [
                {
                    "output_type": "stream",
                    "name": "stdout",
                    "text": [
                        "Learning rate set to 0.041687\n",
                        "0:\tlearn: 0.8175773\ttest: 0.7975309\tbest: 0.7975309 (0)\ttotal: 133ms\tremaining: 2m 12s\n",
                        "100:\tlearn: 0.8855972\ttest: 0.8744828\tbest: 0.8744828 (100)\ttotal: 6.75s\tremaining: 1m\n",
                        "200:\tlearn: 0.9030207\ttest: 0.8814505\tbest: 0.8814505 (200)\ttotal: 12.6s\tremaining: 50.1s\n",
                        "300:\tlearn: 0.9144317\ttest: 0.8814505\tbest: 0.8833333 (243)\ttotal: 18.4s\tremaining: 42.8s\n",
                        "400:\tlearn: 0.9225848\ttest: 0.8845619\tbest: 0.8873435 (360)\ttotal: 24.7s\tremaining: 36.9s\n",
                        "500:\tlearn: 0.9337176\ttest: 0.8845619\tbest: 0.8873435 (360)\ttotal: 31s\tremaining: 30.9s\n",
                        "600:\tlearn: 0.9434811\ttest: 0.8861111\tbest: 0.8873435 (360)\ttotal: 36.9s\tremaining: 24.5s\n",
                        "700:\tlearn: 0.9474359\ttest: 0.8888889\tbest: 0.8888889 (672)\ttotal: 43.9s\tremaining: 18.7s\n",
                        "800:\tlearn: 0.9512821\ttest: 0.8888889\tbest: 0.8891967 (751)\ttotal: 50s\tremaining: 12.4s\n",
                        "900:\tlearn: 0.9576108\ttest: 0.8891967\tbest: 0.8891967 (751)\ttotal: 56.3s\tremaining: 6.18s\n",
                        "999:\tlearn: 0.9627728\ttest: 0.8876560\tbest: 0.8891967 (751)\ttotal: 1m 2s\tremaining: 0us\n",
                        "\n",
                        "bestTest = 0.8891966759\n",
                        "bestIteration = 751\n",
                        "\n",
                        "Shrink model to first 752 iterations.\n"
                    ]
                },
                {
                    "output_type": "execute_result",
                    "data": {
                        "text/plain": [
                            "<catboost.core.CatBoostClassifier at 0x2271390dc40>"
                        ]
                    },
                    "metadata": {},
                    "execution_count": 20
                }
            ],
            "metadata": {}
        },
        {
            "cell_type": "code",
            "execution_count": 22,
            "source": [
                "predictions = model.predict(test_input)"
            ],
            "outputs": [],
            "metadata": {}
        },
        {
            "cell_type": "code",
            "execution_count": 23,
            "source": [
                "result = pd.DataFrame({'Id':df_test['id'],'Action':predictions})\r\n",
                "result.to_csv('Submission15.csv',index=False)\r\n",
                "#BY CATBOOST"
            ],
            "outputs": [],
            "metadata": {}
        },
        {
            "cell_type": "code",
            "execution_count": null,
            "source": [
                "#BY ADABOOST\r\n",
                "from sklearn.ensemble import AdaBoostClassifier\r\n",
                "clf = AdaBoostClassifier(learning_rate=10**-3,n_estimators=100,random_state=1)\r\n",
                "clf.fit(x_train,y_train)"
            ],
            "outputs": [
                {
                    "output_type": "execute_result",
                    "data": {
                        "text/plain": [
                            "AdaBoostClassifier(learning_rate=0.001, n_estimators=100, random_state=1)"
                        ]
                    },
                    "metadata": {},
                    "execution_count": 25
                }
            ],
            "metadata": {}
        },
        {
            "cell_type": "code",
            "execution_count": null,
            "source": [
                "clf.predict(test_input)"
            ],
            "outputs": [
                {
                    "output_type": "execute_result",
                    "data": {
                        "text/plain": [
                            "array([0, 1, 1, ..., 1, 1, 1], dtype=int64)"
                        ]
                    },
                    "metadata": {},
                    "execution_count": 26
                }
            ],
            "metadata": {}
        },
        {
            "cell_type": "code",
            "execution_count": null,
            "source": [
                "clf.score(x_valid,y_valid)"
            ],
            "outputs": [
                {
                    "output_type": "execute_result",
                    "data": {
                        "text/plain": [
                            "0.7509917607567898"
                        ]
                    },
                    "metadata": {},
                    "execution_count": 28
                }
            ],
            "metadata": {}
        },
        {
            "cell_type": "code",
            "execution_count": null,
            "source": [
                "result = pd.DataFrame({'Id':df_test['id'],'Action':clf.predict(test_input)})\r\n",
                "result.to_csv('Submission11.csv',index=False)"
            ],
            "outputs": [],
            "metadata": {}
        },
        {
            "cell_type": "code",
            "execution_count": null,
            "source": [
                "!pip install xgboost\r\n"
            ],
            "outputs": [
                {
                    "output_type": "stream",
                    "name": "stdout",
                    "text": [
                        "Collecting xgboost\n",
                        "  Downloading xgboost-1.4.2-py3-none-win_amd64.whl (97.8 MB)\n",
                        "Requirement already satisfied: scipy in c:\\python39\\lib\\site-packages (from xgboost) (1.6.3)\n",
                        "Requirement already satisfied: numpy in c:\\python39\\lib\\site-packages (from xgboost) (1.19.5)\n",
                        "Installing collected packages: xgboost\n",
                        "Successfully installed xgboost-1.4.2\n"
                    ]
                }
            ],
            "metadata": {}
        },
        {
            "cell_type": "code",
            "execution_count": 25,
            "source": [
                "import xgboost as xgb\r\n",
                "model_xgb = xgb.XGBClassifier(learning_rate=1,n_estimators=100,eval_metric='auc')\r\n",
                "eval_set = [(x_valid,y_valid)]\r\n",
                "model_xgb.fit(x_train,y_train,eval_set=eval_set)"
            ],
            "outputs": [
                {
                    "output_type": "stream",
                    "name": "stdout",
                    "text": [
                        "[0]\tvalidation_0-auc:0.90974\n",
                        "[1]\tvalidation_0-auc:0.91451\n",
                        "[2]\tvalidation_0-auc:0.92746\n",
                        "[3]\tvalidation_0-auc:0.93106\n",
                        "[4]\tvalidation_0-auc:0.93254\n",
                        "[5]\tvalidation_0-auc:0.93416\n",
                        "[6]\tvalidation_0-auc:0.93681\n",
                        "[7]\tvalidation_0-auc:0.93855\n",
                        "[8]\tvalidation_0-auc:0.94712\n",
                        "[9]\tvalidation_0-auc:0.94954\n",
                        "[10]\tvalidation_0-auc:0.94979\n",
                        "[11]\tvalidation_0-auc:0.95060\n",
                        "[12]\tvalidation_0-auc:0.95144\n",
                        "[13]\tvalidation_0-auc:0.95018\n",
                        "[14]\tvalidation_0-auc:0.94887\n",
                        "[15]\tvalidation_0-auc:0.94870\n",
                        "[16]\tvalidation_0-auc:0.94759\n",
                        "[17]\tvalidation_0-auc:0.94766\n",
                        "[18]\tvalidation_0-auc:0.94827\n",
                        "[19]\tvalidation_0-auc:0.94884\n",
                        "[20]\tvalidation_0-auc:0.95071\n",
                        "[21]\tvalidation_0-auc:0.95001\n",
                        "[22]\tvalidation_0-auc:0.95077\n",
                        "[23]\tvalidation_0-auc:0.95101\n",
                        "[24]\tvalidation_0-auc:0.95154\n",
                        "[25]\tvalidation_0-auc:0.94929\n",
                        "[26]\tvalidation_0-auc:0.94992\n",
                        "[27]\tvalidation_0-auc:0.94999\n",
                        "[28]\tvalidation_0-auc:0.95083\n",
                        "[29]\tvalidation_0-auc:0.95062\n",
                        "[30]\tvalidation_0-auc:0.95108\n",
                        "[31]\tvalidation_0-auc:0.95097\n",
                        "[32]\tvalidation_0-auc:0.95165\n",
                        "[33]\tvalidation_0-auc:0.95149\n",
                        "[34]\tvalidation_0-auc:0.95103\n",
                        "[35]\tvalidation_0-auc:0.95184\n",
                        "[36]\tvalidation_0-auc:0.95192\n",
                        "[37]\tvalidation_0-auc:0.95204\n",
                        "[38]\tvalidation_0-auc:0.95165\n",
                        "[39]\tvalidation_0-auc:0.95170\n",
                        "[40]\tvalidation_0-auc:0.95197\n",
                        "[41]\tvalidation_0-auc:0.95144\n",
                        "[42]\tvalidation_0-auc:0.95173\n",
                        "[43]\tvalidation_0-auc:0.95140\n",
                        "[44]\tvalidation_0-auc:0.95122\n",
                        "[45]\tvalidation_0-auc:0.95092\n",
                        "[46]\tvalidation_0-auc:0.95097\n",
                        "[47]\tvalidation_0-auc:0.95165\n",
                        "[48]\tvalidation_0-auc:0.95191\n",
                        "[49]\tvalidation_0-auc:0.95203\n",
                        "[50]\tvalidation_0-auc:0.95195\n",
                        "[51]\tvalidation_0-auc:0.95137\n",
                        "[52]\tvalidation_0-auc:0.95192\n",
                        "[53]\tvalidation_0-auc:0.95181\n",
                        "[54]\tvalidation_0-auc:0.95163\n",
                        "[55]\tvalidation_0-auc:0.95199\n",
                        "[56]\tvalidation_0-auc:0.95177\n",
                        "[57]\tvalidation_0-auc:0.95165\n",
                        "[58]\tvalidation_0-auc:0.95203\n",
                        "[59]\tvalidation_0-auc:0.95195\n",
                        "[60]\tvalidation_0-auc:0.95159\n",
                        "[61]\tvalidation_0-auc:0.95186\n",
                        "[62]\tvalidation_0-auc:0.95163\n",
                        "[63]\tvalidation_0-auc:0.95050\n",
                        "[64]\tvalidation_0-auc:0.95144\n",
                        "[65]\tvalidation_0-auc:0.95190\n",
                        "[66]\tvalidation_0-auc:0.95181\n",
                        "[67]\tvalidation_0-auc:0.95189\n",
                        "[68]\tvalidation_0-auc:0.95159\n",
                        "[69]\tvalidation_0-auc:0.95098\n",
                        "[70]\tvalidation_0-auc:0.95221\n",
                        "[71]\tvalidation_0-auc:0.95198\n",
                        "[72]\tvalidation_0-auc:0.95190\n",
                        "[73]\tvalidation_0-auc:0.95232\n",
                        "[74]\tvalidation_0-auc:0.95129\n",
                        "[75]\tvalidation_0-auc:0.95129\n",
                        "[76]\tvalidation_0-auc:0.95151\n",
                        "[77]\tvalidation_0-auc:0.95155\n",
                        "[78]\tvalidation_0-auc:0.95118\n",
                        "[79]\tvalidation_0-auc:0.95128\n",
                        "[80]\tvalidation_0-auc:0.95095\n",
                        "[81]\tvalidation_0-auc:0.95134\n",
                        "[82]\tvalidation_0-auc:0.95110\n",
                        "[83]\tvalidation_0-auc:0.95111\n",
                        "[84]\tvalidation_0-auc:0.95142\n",
                        "[85]\tvalidation_0-auc:0.95149\n",
                        "[86]\tvalidation_0-auc:0.95133\n",
                        "[87]\tvalidation_0-auc:0.95103\n",
                        "[88]\tvalidation_0-auc:0.95117\n",
                        "[89]\tvalidation_0-auc:0.95124\n",
                        "[90]\tvalidation_0-auc:0.95096\n",
                        "[91]\tvalidation_0-auc:0.95054\n",
                        "[92]\tvalidation_0-auc:0.95098\n",
                        "[93]\tvalidation_0-auc:0.95053\n",
                        "[94]\tvalidation_0-auc:0.95054\n",
                        "[95]\tvalidation_0-auc:0.95055\n",
                        "[96]\tvalidation_0-auc:0.95063\n",
                        "[97]\tvalidation_0-auc:0.95071\n",
                        "[98]\tvalidation_0-auc:0.95083\n",
                        "[99]\tvalidation_0-auc:0.95022\n"
                    ]
                },
                {
                    "output_type": "execute_result",
                    "data": {
                        "text/plain": [
                            "XGBClassifier(base_score=0.5, booster='gbtree', colsample_bylevel=1,\n",
                            "              colsample_bynode=1, colsample_bytree=1, eval_metric='auc',\n",
                            "              gamma=0, gpu_id=-1, importance_type='gain',\n",
                            "              interaction_constraints='', learning_rate=1, max_delta_step=0,\n",
                            "              max_depth=6, min_child_weight=1, missing=nan,\n",
                            "              monotone_constraints='()', n_estimators=100, n_jobs=8,\n",
                            "              num_parallel_tree=1, random_state=0, reg_alpha=0, reg_lambda=1,\n",
                            "              scale_pos_weight=1, subsample=1, tree_method='exact',\n",
                            "              validate_parameters=1, verbosity=None)"
                        ]
                    },
                    "metadata": {},
                    "execution_count": 25
                }
            ],
            "metadata": {}
        },
        {
            "cell_type": "code",
            "execution_count": 26,
            "source": [
                "result = pd.DataFrame({'Id':df_test['id'],'Action':model_xgb.predict(test_input)})\r\n",
                "result.to_csv('Submission17.csv',index=False)"
            ],
            "outputs": [],
            "metadata": {}
        },
        {
            "cell_type": "code",
            "execution_count": 27,
            "source": [
                "from sklearn.neighbors import KNeighborsClassifier\r\n",
                "neigh = KNeighborsClassifier(weights='distance')\r\n",
                "neigh.fit(x_train,y_train)"
            ],
            "outputs": [
                {
                    "output_type": "execute_result",
                    "data": {
                        "text/plain": [
                            "KNeighborsClassifier(weights='distance')"
                        ]
                    },
                    "metadata": {},
                    "execution_count": 27
                }
            ],
            "metadata": {}
        },
        {
            "cell_type": "code",
            "execution_count": 28,
            "source": [
                "neigh.score(x_valid,y_valid)"
            ],
            "outputs": [
                {
                    "output_type": "execute_result",
                    "data": {
                        "text/plain": [
                            "0.8208168642951251"
                        ]
                    },
                    "metadata": {},
                    "execution_count": 28
                }
            ],
            "metadata": {}
        },
        {
            "cell_type": "code",
            "execution_count": 29,
            "source": [
                "result = pd.DataFrame({'Id':df_test['id'],'Action':neigh.predict(test_input)})\r\n",
                "result.to_csv('Submission18.csv',index=False)"
            ],
            "outputs": [],
            "metadata": {}
        }
    ],
    "metadata": {
        "orig_nbformat": 4,
        "language_info": {
            "name": "python",
            "version": "3.9.5",
            "mimetype": "text/x-python",
            "codemirror_mode": {
                "name": "ipython",
                "version": 3
            },
            "pygments_lexer": "ipython3",
            "nbconvert_exporter": "python",
            "file_extension": ".py"
        },
        "kernelspec": {
            "name": "python3",
            "display_name": "Python 3.9.5 64-bit"
        },
        "interpreter": {
            "hash": "63fd5069d213b44bf678585dea6b12cceca9941eaf7f819626cde1f2670de90d"
        }
    },
    "nbformat": 4,
    "nbformat_minor": 2
}